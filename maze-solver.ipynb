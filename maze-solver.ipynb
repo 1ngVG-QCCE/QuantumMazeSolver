{
 "cells": [
  {
   "cell_type": "markdown",
   "id": "b780fa06",
   "metadata": {},
   "source": [
    "# Quantum Maze Solver"
   ]
  },
  {
   "cell_type": "code",
   "execution_count": null,
   "id": "49247492",
   "metadata": {},
   "outputs": [],
   "source": [
    "import qiskit\n",
    "from qiskit import QuantumCircuit\n",
    "import numpy as np\n",
    "from typing import TypeAlias\n",
    "from qiskit.circuit.library import GroverOperator\n",
    "from maze_oracle import MazeOracleGenerator"
   ]
  },
  {
   "cell_type": "code",
   "execution_count": null,
   "id": "fe0b3037",
   "metadata": {},
   "outputs": [],
   "source": [
    "Edge: TypeAlias = tuple[int, int]\n",
    "Path: TypeAlias = list[Edge]\n",
    "\n",
    "class Maze:\n",
    "    def __init__(self, num_nodes: int, edges: list[Edge], directed: bool = False):\n",
    "        self.num_nodes = num_nodes\n",
    "        self.edges = edges\n",
    "        self.directed = directed\n",
    "        self.max_path_length = num_nodes\n",
    "\n",
    "class QuantumMazeCircuit(Maze, QuantumCircuit):\n",
    "    def __init__(self, from_maze: Maze):\n",
    "        self.node_bits_size = int(np.ceil( np.log2(from_maze.num_nodes) ))\n",
    "        num_qubit_in_path = (from_maze.max_path_length + 1) * self.node_bits_size\n",
    "        self.total_size = num_qubit_in_path + from_maze.max_path_length\n",
    "\n",
    "        Maze.__init__(self, from_maze.num_nodes, from_maze.edges, from_maze.directed)\n",
    "        QuantumCircuit.__init__(self, self.total_size)\n",
    "\n",
    "class QuantumMazeSolver:\n",
    "    def generate_circuit(maze: Maze) -> QuantumMazeCircuit:\n",
    "        pass\n",
    "\n",
    "    def solve(maze: Maze) -> Path:\n",
    "        pass"
   ]
  }
 ],
 "metadata": {
  "kernelspec": {
   "display_name": "Python 3",
   "language": "python",
   "name": "python3"
  },
  "language_info": {
   "codemirror_mode": {
    "name": "ipython",
    "version": 3
   },
   "file_extension": ".py",
   "mimetype": "text/x-python",
   "name": "python",
   "nbconvert_exporter": "python",
   "pygments_lexer": "ipython3",
   "version": "3.10.11"
  }
 },
 "nbformat": 4,
 "nbformat_minor": 5
}
