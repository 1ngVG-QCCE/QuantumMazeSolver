{
 "cells": [
  {
   "cell_type": "markdown",
   "metadata": {},
   "source": [
    "# Quantum Maze Solver"
   ]
  },
  {
   "cell_type": "code",
   "execution_count": 5,
   "id": "19ab6ba9",
   "metadata": {},
   "outputs": [],
   "source": [
    "import os\n",
    "import sys\n",
    "sys.path.insert(0, os.path.abspath('utils'))\n",
    "import qiskit\n",
    "from qiskit.result import marginal_counts\n",
    "from qiskit import QuantumCircuit, transpile\n",
    "from qiskit.transpiler import CouplingMap\n",
    "from qiskit.circuit.library import UnitaryGate\n",
    "from qiskit.quantum_info import Statevector # to compute state vectors\n",
    "from qiskit.visualization import array_to_latex\n",
    "from qiskit.providers.fake_provider import GenericBackendV2\n",
    "from qiskit_aer import AerSimulator # ideal simulator backend\n",
    "from qiskit.visualization import plot_histogram  # to plot histograms of simulation results\n",
    "import numpy as np\n",
    "from collections import namedtuple\n",
    "from IPython.display import display, Markdown, Latex\n",
    "import sympy as sp\n",
    "\n",
    "sys.path.insert(1, '../')\n",
    "from utils import Helpers as hp"
   ]
  },
  {
   "cell_type": "code",
   "execution_count": 6,
   "id": "8e27b115",
   "metadata": {},
   "outputs": [],
   "source": [
    "#print(\"ciao\")\n",
    "qc = QuantumCircuit(2)\n",
    "qc.swap(0, 1)\n",
    "display(hp.derive_unitary_matrix(qc))\n",
    "display(qc.draw(output='mpl'))\n",
    "\n"
   ]
  },
  {
   "cell_type": "code",
   "execution_count": 3,
   "id": "f6fae2e9",
   "metadata": {},
   "outputs": [],
   "source": [
    "from qiskit.circuit.library.standard_gates import XGate\n",
    "\n",
    "check_path = QuantumCircuit(5)\n",
    "# (1,0)\n",
    "check_path.x(0)\n",
    "check_path.x(2)\n",
    "check_path.x(3)\n",
    "check_path.append(XGate().control(4), [0, 1, 2, 3, 4])\n",
    "check_path.x(0)\n",
    "check_path.x(2)\n",
    "check_path.x(3)\n",
    "check_path.barrier()\n",
    "# (0,2)\n",
    "check_path.x(0)\n",
    "check_path.x(1)\n",
    "check_path.x(3)\n",
    "check_path.append(XGate().control(4), [0, 1, 2, 3, 4])\n",
    "check_path.x(0)\n",
    "check_path.x(1)\n",
    "check_path.x(3)\n",
    "check_path.barrier()\n",
    "# (2,3)\n",
    "check_path.x(1)\n",
    "check_path.append(XGate().control(4), [0, 1, 2, 3, 4])\n",
    "check_path.x(1)\n",
    "\n",
    "check_path.draw(output='mpl')"
   ]
  },
  {
   "cell_type": "code",
   "execution_count": null,
   "id": "c8735ed2",
   "metadata": {},
   "outputs": [],
   "source": [
    "negate = QuantumCircuit(8)\n",
    "for i in range(8):\n",
    "    negate.z(i)\n",
    "    negate.x(i)\n",
    "    negate.z(i)\n",
    "    negate.x(i)\n"
   ]
  },
  {
   "cell_type": "code",
   "execution_count": 34,
   "id": "85b9538e",
   "metadata": {},
   "outputs": [
    {
     "data": {
      "text/latex": [
       "$$\n",
       "\\text{Final state = }\n",
       "\\begin{bmatrix}\n",
       "0 & 0 & -1 & 0  \\\\\n",
       " \\end{bmatrix}\n",
       "$$"
      ],
      "text/plain": [
       "<IPython.core.display.Latex object>"
      ]
     },
     "execution_count": 34,
     "metadata": {},
     "output_type": "execute_result"
    }
   ],
   "source": [
    "from qiskit.quantum_info import Statevector # to compute state vectors\n",
    "from qiskit.visualization import array_to_latex\n",
    "\n",
    "sv = Statevector.from_label('10')\n",
    "qc = QuantumCircuit(1)\n",
    "qc.z(0)\n",
    "qc.x(0)\n",
    "qc.z(0)\n",
    "qc.x(0)\n",
    "# qc.append(negate, [0,1,2,3,4,5,6,7])\n",
    "array_to_latex(sv.evolve(qc), prefix=\"\\\\text{Final state = }\")"
   ]
  }
 ],
 "metadata": {
  "kernelspec": {
   "display_name": "base",
   "language": "python",
   "name": "python3"
  },
  "language_info": {
   "codemirror_mode": {
    "name": "ipython",
    "version": 3
   },
   "file_extension": ".py",
   "mimetype": "text/x-python",
   "name": "python",
   "nbconvert_exporter": "python",
   "pygments_lexer": "ipython3",
   "version": "3.11.5"
  }
 },
 "nbformat": 4,
 "nbformat_minor": 5
}
