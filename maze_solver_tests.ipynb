{
 "cells": [
  {
   "cell_type": "markdown",
   "id": "1c15b880362ec946",
   "metadata": {},
   "source": [
    "# Quantum Maze Solver"
   ]
  },
  {
   "cell_type": "code",
   "execution_count": 2,
   "id": "14ff5edd0fd4f188",
   "metadata": {
    "ExecuteTime": {
     "end_time": "2025-05-21T16:33:26.311062Z",
     "start_time": "2025-05-21T16:33:25.158071Z"
    }
   },
   "outputs": [],
   "source": [
    "import maze_generator\n",
    "\n",
    "# maze = maze_generator.generate_maze(2,2,2)\n"
   ]
  },
  {
   "cell_type": "code",
   "execution_count": 3,
   "id": "19ab6ba9",
   "metadata": {},
   "outputs": [],
   "source": [
    "import os\n",
    "import sys\n",
    "sys.path.insert(0, os.path.abspath('utils'))\n",
    "import qiskit\n",
    "from qiskit.result import marginal_counts\n",
    "from qiskit import QuantumCircuit, transpile\n",
    "from qiskit.transpiler import CouplingMap\n",
    "from qiskit.circuit.library import UnitaryGate\n",
    "from qiskit.quantum_info import Statevector # to compute state vectors\n",
    "from qiskit.visualization import array_to_latex\n",
    "from qiskit.providers.fake_provider import GenericBackendV2\n",
    "from qiskit_aer import AerSimulator # ideal simulator backend\n",
    "from qiskit.visualization import plot_histogram  # to plot histograms of simulation results\n",
    "import numpy as np\n",
    "from collections import namedtuple\n",
    "from IPython.display import display, Markdown, Latex\n",
    "import sympy as sp\n",
    "from qiskit.circuit.library.standard_gates import XGate\n",
    "\n",
    "sys.path.insert(1, '../')\n",
    "from utils import Helpers as hp"
   ]
  },
  {
   "cell_type": "code",
   "execution_count": 4,
   "id": "ad96267c",
   "metadata": {},
   "outputs": [],
   "source": [
    "def map_graph(edges, registry_size: int = 2, directed: bool = False):\n",
    "    circ = QuantumCircuit((2 * registry_size) + 1)\n",
    "    def map_edge(from_node: int, to_node: int):\n",
    "        target_qubit = (2 * registry_size)\n",
    "        def add_x(number, start_qubit):\n",
    "            exp = 1\n",
    "            for qubit in range(start_qubit, start_qubit + registry_size):\n",
    "                if not (number & exp):\n",
    "                    circ.x(qubit)\n",
    "                exp *= 2\n",
    "\n",
    "        add_x(from_node, 0)\n",
    "        add_x(to_node, registry_size)\n",
    "        print(target_qubit)\n",
    "        print(list(range((2 * registry_size))))\n",
    "        circ.append(XGate().control(target_qubit), list(range((2 * registry_size))) + [target_qubit])\n",
    "        add_x(from_node, 0)\n",
    "        add_x(to_node, registry_size)\n",
    "        \n",
    "    for e in edges:\n",
    "        map_edge(e[0], e[1])\n",
    "        circ.barrier()\n",
    "        if not directed:\n",
    "            map_edge(e[1], e[0])\n",
    "            circ.barrier()\n",
    "    return circ\n",
    "\n"
   ]
  },
  {
   "cell_type": "code",
   "execution_count": 5,
   "id": "603deae6",
   "metadata": {},
   "outputs": [],
   "source": [
    "# Creates a circuit that negates the input ( |x> => -I|x> )\n",
    "def negate(num_qubits: int):\n",
    "    n = QuantumCircuit(num_qubits)\n",
    "    for i in range(num_qubits):\n",
    "        n.z(i)\n",
    "        n.x(i)\n",
    "        n.z(i)\n",
    "        n.x(i)\n",
    "    return n"
   ]
  },
  {
   "cell_type": "code",
   "execution_count": 6,
   "id": "8e27b115",
   "metadata": {},
   "outputs": [
    {
     "data": {
      "text/latex": [
       "$$\n",
       "\n",
       "\\begin{bmatrix}\n",
       "1 & 0 & 0 & 0  \\\\\n",
       " 0 & 0 & 1 & 0  \\\\\n",
       " 0 & 1 & 0 & 0  \\\\\n",
       " 0 & 0 & 0 & 1  \\\\\n",
       " \\end{bmatrix}\n",
       "$$"
      ],
      "text/plain": [
       "<IPython.core.display.Latex object>"
      ]
     },
     "metadata": {},
     "output_type": "display_data"
    },
    {
     "data": {
      "image/png": "[encoded data removed]",
      "text/plain": [
       "<Figure size 203.683x200.667 with 1 Axes>"
      ]
     },
     "metadata": {},
     "output_type": "display_data"
    }
   ],
   "source": [
    "#print(\"ciao\")\n",
    "qc = QuantumCircuit(2)\n",
    "qc.swap(0, 1)\n",
    "display(hp.derive_unitary_matrix(qc))\n",
    "display(qc.draw(output='mpl'))\n",
    "\n"
   ]
  },
  {
   "cell_type": "code",
   "execution_count": 7,
   "id": "f6fae2e9",
   "metadata": {},
   "outputs": [
    {
     "data": {
      "image/png": "[encoded data removed]",
      "text/plain": [
       "<Figure size 1040x451.5 with 1 Axes>"
      ]
     },
     "execution_count": 7,
     "metadata": {},
     "output_type": "execute_result"
    }
   ],
   "source": [
    "check_path = QuantumCircuit(5)\n",
    "# (1,0)\n",
    "check_path.x(0)\n",
    "check_path.x(2)\n",
    "check_path.x(3)\n",
    "check_path.append(XGate().control(4), [0, 1, 2, 3, 4])\n",
    "check_path.x(0)\n",
    "check_path.x(2)\n",
    "check_path.x(3)\n",
    "check_path.barrier()\n",
    "# (0,2)\n",
    "check_path.x(0)\n",
    "check_path.x(1)\n",
    "check_path.x(3)\n",
    "check_path.append(XGate().control(4), [0, 1, 2, 3, 4])\n",
    "check_path.x(0)\n",
    "check_path.x(1)\n",
    "check_path.x(3)\n",
    "check_path.barrier()\n",
    "# (2,3)\n",
    "check_path.x(1)\n",
    "check_path.append(XGate().control(4), [0, 1, 2, 3, 4])\n",
    "check_path.x(1)\n",
    "\n",
    "check_path.draw(output='mpl')"
   ]
  },
  {
   "cell_type": "code",
   "execution_count": 8,
   "id": "fa0f84df",
   "metadata": {},
   "outputs": [
    {
     "name": "stdout",
     "output_type": "stream",
     "text": [
      "4\n",
      "[0, 1, 2, 3]\n",
      "4\n",
      "[0, 1, 2, 3]\n",
      "4\n",
      "[0, 1, 2, 3]\n"
     ]
    },
    {
     "data": {
      "image/png": "[encoded data removed]",
      "text/plain": [
       "<Figure size 1123.61x451.5 with 1 Axes>"
      ]
     },
     "execution_count": 8,
     "metadata": {},
     "output_type": "execute_result"
    }
   ],
   "source": [
    "map_graph([(1, 0), (0, 2), (2, 3)], directed=True).draw('mpl')"
   ]
  },
  {
   "cell_type": "code",
   "execution_count": 9,
   "id": "85b9538e",
   "metadata": {},
   "outputs": [
    {
     "data": {
      "text/latex": [
       "$$\n",
       "\\text{Final state = }\n",
       "\\begin{bmatrix}\n",
       "0 & 0 & -1 & 0  \\\\\n",
       " \\end{bmatrix}\n",
       "$$"
      ],
      "text/plain": [
       "<IPython.core.display.Latex object>"
      ]
     },
     "execution_count": 9,
     "metadata": {},
     "output_type": "execute_result"
    }
   ],
   "source": [
    "from qiskit.quantum_info import Statevector # to compute state vectors\n",
    "from qiskit.visualization import array_to_latex\n",
    "\n",
    "sv = Statevector.from_label('10')\n",
    "qc = QuantumCircuit(1)\n",
    "qc.z(0)\n",
    "qc.x(0)\n",
    "qc.z(0)\n",
    "qc.x(0)\n",
    "# qc.append(negate, [0,1,2,3,4,5,6,7])\n",
    "array_to_latex(sv.evolve(qc), prefix=\"\\\\text{Final state = }\")"
   ]
  },
  {
   "cell_type": "code",
   "execution_count": 10,
   "id": "a87f7915",
   "metadata": {},
   "outputs": [
    {
     "name": "stdout",
     "output_type": "stream",
     "text": [
      "#######\n",
      "#     #\n",
      "# # # #\n",
      "# # # #\n",
      "### # #\n",
      "#   # #\n",
      "#######\n"
     ]
    },
    {
     "data": {
      "image/png": "[encoded data removed]",
      "text/plain": [
       "<Figure size 1000x500 with 1 Axes>"
      ]
     },
     "metadata": {},
     "output_type": "display_data"
    }
   ],
   "source": [
    "from mazelib import Maze\n",
    "from mazelib.generate.Prims import Prims\n",
    "\n",
    "m = Maze()\n",
    "m.generator = Prims(3, 3)\n",
    "m.generate()\n",
    "print(m)\n",
    "import matplotlib.pyplot as plt\n",
    "\n",
    "def showPNG(grid):\n",
    "    \"\"\"Generate a simple image of the maze.\"\"\"\n",
    "    plt.figure(figsize=(10, 5))\n",
    "    plt.imshow(grid, cmap=plt.cm.binary, interpolation='nearest')\n",
    "    plt.xticks([]), plt.yticks([])\n",
    "    plt.show()\n",
    "showPNG(m.grid)"
   ]
  },
  {
   "cell_type": "code",
   "execution_count": 11,
   "id": "a20797d264f933a8",
   "metadata": {},
   "outputs": [],
   "source": [
    "\n",
    "# # from __future__ import absolute_import\n",
    "# from src.maze_manager import MazeManager\n",
    "# from src.maze import Maze\n",
    "\n",
    "\n",
    "# if __name__ == \"__main__\":\n",
    "\n",
    "#     # The easiest way to use the library is through the Manager class. It acts as the glue between\n",
    "#     # The visualization, solver, and maze classes. Mazes inside the manager have unique ids that we use\n",
    "#     # to specify particular mazes.\n",
    "#     manager = MazeManager()\n",
    "\n",
    "#     # We can add mazes to the manager two different ways.\n",
    "#     # The first way, we specify the maze dimensions. The maze that is created gets returned back to you.\n",
    "#     maze = manager.add_maze(10, 10)\n",
    "\n",
    "#     # The second way is by creating a maze, and then adding it to the manager. Doing this will require you to add\n",
    "#     # from src.maze import Maze\n",
    "#     # to your imports. Because the ids need to be unique, the manager will ensure this happens. It may change the\n",
    "#     # id of the maze that was passed in, so we assign it to the return value to make sure we're using the updated maze.\n",
    "#     maze2 = Maze(10, 10)\n",
    "#     maze2 = manager.add_existing_maze(maze2)\n",
    "\n",
    "#     # Once we have a maze in the manager, we can tell the manager to solve it with a particular algorithm.\n",
    "#     #manager.solve_maze(maze.id, \"BreadthFirst\")\n",
    "#     #manager.solve_maze(maze.id, \"BiDirectional\")\n",
    "#     manager.solve_maze(maze.id, \"DepthFirstBacktracker\")\n",
    "\n",
    "#     # If we want to save the maze & maze solution images along with their animations, we need to let the manager know.\n",
    "#     manager.set_filename(\"myFileName\")\n",
    "\n",
    "#     # To see the unsolved maze, call\n",
    "#     manager.show_maze(maze.id)\n",
    "\n",
    "#     # You can also set the size of the cell by passing show_maze's second argument. The default is 1.\n",
    "#     # manager.show_maze(maze.id, 2)\n",
    "\n",
    "#     # To show an animation of how the maze was generated, use the following line\n",
    "#     manager.show_generation_animation(maze.id)\n",
    "\n",
    "#     # You can also see an animation of how the solver went about finding the end\n",
    "#     manager.show_solution_animation(maze.id)\n",
    "\n",
    "#     # Finally, you can show an image of the maze with the solution path overlaid. All of these display\n",
    "#     # functions will save the figure if MazeManager::set_filename has been set.\n",
    "#     manager.show_solution(maze.id)"
   ]
  },
  {
   "cell_type": "code",
   "execution_count": null,
   "id": "53d820b885da8e5a",
   "metadata": {},
   "outputs": [
    {
     "data": {
      "image/png": "[encoded data removed]",
      "text/plain": [
       "<Figure size 621.941x284.278 with 1 Axes>"
      ]
     },
     "metadata": {},
     "output_type": "display_data"
    },
    {
     "data": {
      "text/latex": [
       "$$\n",
       "{\\left|100\\right\\rangle }\n",
       "$$"
      ],
      "text/plain": [
       "<IPython.core.display.Latex object>"
      ]
     },
     "metadata": {},
     "output_type": "display_data"
    }
   ],
   "source": [
    "from qiskit import QuantumCircuit, QuantumRegister\n",
    "\n",
    "# Qubit: 3 controlli + 1 target ancilla\n",
    "# qr = QuantumRegister(4)\n",
    "qc = QuantumCircuit(3)\n",
    "\n",
    "qc.cx(0,1)\n",
    "qc.x(1) \n",
    "qc.cx(1,2)\n",
    "\n",
    "qc.cx(0,1)\n",
    "qc.x(1)  \n",
    "qc.cx(1,2)\n",
    "\n",
    "\n",
    "display(qc.draw('mpl'))\n",
    "inp = Statevector.from_label('000')\n",
    "out = inp.evolve(qc)\n",
    "display(hp.print_statevector(out))\n"
   ]
  },
  {
   "cell_type": "code",
   "execution_count": 13,
   "id": "82ab3051",
   "metadata": {},
   "outputs": [
    {
     "name": "stdout",
     "output_type": "stream",
     "text": [
      "Input: 000 -> Probabilità ancilla |0> = 1.0000\n",
      "Input: 100 -> Probabilità ancilla |0> = 1.0000\n",
      "Input: 010 -> Probabilità ancilla |0> = 1.0000\n",
      "Input: 001 -> Probabilità ancilla |0> = 1.0000\n",
      "Input: 110 -> Probabilità ancilla |0> = 1.0000\n",
      "Input: 011 -> Probabilità ancilla |0> = 1.0000\n",
      "Input: 111 -> Probabilità ancilla |0> = 1.0000\n"
     ]
    }
   ],
   "source": [
    "from qiskit import QuantumCircuit, QuantumRegister\n",
    "from qiskit.quantum_info import Statevector, partial_trace\n",
    "import numpy as np\n",
    "\n",
    "def test_input(input_bits):\n",
    "    qr = QuantumRegister(4)\n",
    "    qc = QuantumCircuit(qr)\n",
    "\n",
    "    # Inizializza i primi 3 qubit nello stato input_bits\n",
    "    for i, bit in enumerate(input_bits):\n",
    "        if bit == '1':\n",
    "            qc.x(qr[i])\n",
    "\n",
    "    # Compute\n",
    "    qc.mcx([qr[0], qr[1]], qr[3])\n",
    "    qc.mcx([qr[1], qr[2]], qr[3])\n",
    "\n",
    "    # Uncompute (ordine inverso!)\n",
    "    qc.mcx([qr[0], qr[1]], qr[3])\n",
    "    qc.mcx([qr[1], qr[2]], qr[3])\n",
    "\n",
    "    # Simula stato finale\n",
    "    state = Statevector.from_instruction(qc)\n",
    "\n",
    "    # Trace out primi 3 qubit per vedere stato ancilla\n",
    "    ancilla_state = partial_trace(state, [0,1,2])\n",
    "\n",
    "    # Probabilità ancilla in |0>\n",
    "    p0 = np.real(ancilla_state.data[0,0])\n",
    "    print(f\"Input: {input_bits} -> Probabilità ancilla |0> = {p0:.4f}\")\n",
    "\n",
    "# Test su tutti i casi\n",
    "for bits in ['000', '100', '010', '001', '110', '011', '111']:\n",
    "    test_input(bits)\n"
   ]
  },
  {
   "cell_type": "code",
   "execution_count": 14,
   "id": "af9117a7",
   "metadata": {},
   "outputs": [
    {
     "name": "stdout",
     "output_type": "stream",
     "text": [
      "Con uncompute ordine inverso (corretto):\n",
      "Input: 101 - Uncompute inverso? True\n",
      "Prob ancilla (|00>,|01>,|10>,|11>) = [1. 0. 0. 0.]\n",
      "Ancilla sono tornate a |00>? Yes\n",
      "\n",
      "Con uncompute stesso ordine (sbagliato):\n",
      "Input: 101 - Uncompute inverso? False\n",
      "Prob ancilla (|00>,|01>,|10>,|11>) = [1. 0. 0. 0.]\n",
      "Ancilla sono tornate a |00>? Yes\n",
      "\n"
     ]
    }
   ],
   "source": [
    "from qiskit import QuantumCircuit, QuantumRegister\n",
    "from qiskit.quantum_info import Statevector, partial_trace\n",
    "import numpy as np\n",
    "\n",
    "def test_order(input_bits, uncompute_order_inverted=True):\n",
    "    qr = QuantumRegister(5)  # 3 controlli + 2 ancilla\n",
    "    qc = QuantumCircuit(qr)\n",
    "\n",
    "    # Inizializza primi 3 qubit\n",
    "    for i, bit in enumerate(input_bits):\n",
    "        if bit == '1':\n",
    "            qc.x(qr[i])\n",
    "\n",
    "    # Compute\n",
    "    qc.mcx([qr[0], qr[1]], qr[3])  # MCX_1 su ancilla 0\n",
    "    qc.mcx([qr[1], qr[2]], qr[4])  # MCX_2 su ancilla 1\n",
    "\n",
    "    # Uncompute\n",
    "    if uncompute_order_inverted:\n",
    "        # Ordine inverso corretto\n",
    "        qc.mcx([qr[1], qr[2]], qr[4])  # MCX_2 uncompute\n",
    "        qc.mcx([qr[0], qr[1]], qr[3])  # MCX_1 uncompute\n",
    "    else:\n",
    "        # Ordine sbagliato (stesso ordine del compute)\n",
    "        qc.mcx([qr[0], qr[1]], qr[3])  # MCX_1 uncompute\n",
    "        qc.mcx([qr[1], qr[2]], qr[4])  # MCX_2 uncompute\n",
    "\n",
    "    # Simula stato finale\n",
    "    state = Statevector.from_instruction(qc)\n",
    "\n",
    "    # Traccia le ancilla (q3 e q4)\n",
    "    ancilla_state = partial_trace(state, [0,1,2])\n",
    "\n",
    "    # Probabilità degli stati |00>,|01>,|10>,|11>\n",
    "    probs = np.real(np.diag(ancilla_state.data))\n",
    "\n",
    "    print(f\"Input: {input_bits} - Uncompute inverso? {uncompute_order_inverted}\")\n",
    "    print(f\"Prob ancilla (|00>,|01>,|10>,|11>) = {probs}\")\n",
    "    print(f\"Ancilla sono tornate a |00>? {'Yes' if np.isclose(probs[0],1) else 'No'}\\n\")\n",
    "\n",
    "t = '101'\n",
    "# Proviamo con input '110'\n",
    "print(\"Con uncompute ordine inverso (corretto):\")\n",
    "test_order(t, uncompute_order_inverted=True)\n",
    "\n",
    "print(\"Con uncompute stesso ordine (sbagliato):\")\n",
    "test_order(t, uncompute_order_inverted=False)\n"
   ]
  }
 ],
 "metadata": {
  "kernelspec": {
   "display_name": "base",
   "language": "python",
   "name": "python3"
  },
  "language_info": {
   "codemirror_mode": {
    "name": "ipython",
    "version": 3
   },
   "file_extension": ".py",
   "mimetype": "text/x-python",
   "name": "python",
   "nbconvert_exporter": "python",
   "pygments_lexer": "ipython3",
   "version": "3.11.5"
  }
 },
 "nbformat": 4,
 "nbformat_minor": 5
}
