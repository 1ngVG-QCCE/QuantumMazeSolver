{
 "cells": [
  {
   "cell_type": "code",
   "execution_count": 7,
   "id": "1d3edaed",
   "metadata": {},
   "outputs": [],
   "source": [
    "import os\n",
    "import sys\n",
    "sys.path.insert(0, os.path.abspath('utils'))\n",
    "import qiskit\n",
    "from qiskit.result import marginal_counts\n",
    "from qiskit import QuantumCircuit, transpile\n",
    "from qiskit.transpiler import CouplingMap\n",
    "from qiskit.circuit.library import UnitaryGate\n",
    "from qiskit.quantum_info import Statevector # to compute state vectors\n",
    "from qiskit.visualization import array_to_latex\n",
    "from qiskit.providers.fake_provider import GenericBackendV2\n",
    "from qiskit_aer import AerSimulator # ideal simulator backend\n",
    "from qiskit.visualization import plot_histogram  # to plot histograms of simulation results\n",
    "import numpy as np\n",
    "from collections import namedtuple\n",
    "from IPython.display import display, Markdown, Latex\n",
    "import sympy as sp\n",
    "from qiskit.circuit.library.standard_gates import XGate"
   ]
  },
  {
   "cell_type": "code",
   "execution_count": 9,
   "id": "c01b102a",
   "metadata": {},
   "outputs": [],
   "source": [
    "qc = QuantumCircuit(2)\n",
    "qc.z(0)\n",
    "sv = Statevector.from_label('00')\n",
    "next = sv.evolve(qc)"
   ]
  },
  {
   "cell_type": "code",
   "execution_count": null,
   "id": "f7f7c102",
   "metadata": {},
   "outputs": [],
   "source": [
    "array_"
   ]
  }
 ],
 "metadata": {
  "kernelspec": {
   "display_name": "base",
   "language": "python",
   "name": "python3"
  },
  "language_info": {
   "codemirror_mode": {
    "name": "ipython",
    "version": 3
   },
   "file_extension": ".py",
   "mimetype": "text/x-python",
   "name": "python",
   "nbconvert_exporter": "python",
   "pygments_lexer": "ipython3",
   "version": "3.11.5"
  }
 },
 "nbformat": 4,
 "nbformat_minor": 5
}
