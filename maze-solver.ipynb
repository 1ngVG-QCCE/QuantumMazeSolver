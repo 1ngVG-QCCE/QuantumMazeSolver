{
 "cells": [
  {
   "cell_type": "markdown",
   "id": "b780fa06",
   "metadata": {},
   "source": [
    "# Quantum Maze Solver"
   ]
  },
  {
   "cell_type": "code",
   "execution_count": 3,
   "id": "49247492",
   "metadata": {},
   "outputs": [],
   "source": [
    "import qiskit\n",
    "from qiskit import QuantumCircuit, transpile\n",
    "from qiskit_aer import AerSimulator\n",
    "import numpy as np\n",
    "from typing import TypeAlias\n",
    "from qiskit.circuit.library import GroverOperator\n",
    "from maze_oracle import MazeOracleGenerator"
   ]
  },
  {
   "cell_type": "code",
   "execution_count": null,
   "id": "fe0b3037",
   "metadata": {},
   "outputs": [],
   "source": [
    "Edge: TypeAlias = tuple[int, int]\n",
    "Path: TypeAlias = list[Edge]\n",
    "\n",
    "class Maze:\n",
    "    def __init__(self, num_nodes: int, edges: list[Edge], directed: bool = False):\n",
    "        self.num_nodes = num_nodes\n",
    "        self.edges = edges\n",
    "        self.directed = directed\n",
    "        self.max_path_length = num_nodes\n",
    "\n",
    "class QuantumMazeCircuit(Maze, QuantumCircuit):\n",
    "    def __init__(self, from_maze: Maze):\n",
    "        self.node_bits_size = int(np.ceil( np.log2(from_maze.num_nodes) ))\n",
    "        self.num_qubit_in_path = (from_maze.max_path_length + 1) * self.node_bits_size\n",
    "        self.total_size = self.num_qubit_in_path + from_maze.max_path_length\n",
    "\n",
    "        Maze.__init__(self, from_maze.num_nodes, from_maze.edges, from_maze.directed)\n",
    "        QuantumCircuit.__init__(self, self.total_size)\n",
    "\n",
    "class QuantumMazeSolver:\n",
    "    def generate_circuit(self, maze: Maze) -> QuantumMazeCircuit:\n",
    "        ### Setup\n",
    "        circ = QuantumMazeCircuit(maze)\n",
    "        circ.name = 'Maze Solver'\n",
    "        # Get oracle\n",
    "        oracle = MazeOracleGenerator(circ.num_nodes, circ.max_path_length, circ.directed).add_edges(circ.edges).generate()\n",
    "        # Get grover's diffuser\n",
    "        diffuser = GroverOperator(QuantumCircuit(circ.num_qubit_in_path))\n",
    "        # Compute repetition time\n",
    "        iterations = int(np.round( (np.pi / 4) * np.sqrt(circ.num_qubit_in_path) ))\n",
    "\n",
    "        ### Build\n",
    "        # Make superpositions\n",
    "        for i in range(circ.num_qubit_in_path):\n",
    "            circ.h(i)\n",
    "        # Repeat grover operation\n",
    "        for i in range(iterations):\n",
    "            circ.barrier()\n",
    "            circ.append(oracle, range(circ.total_size))             # Apply oracle\n",
    "            circ.append(diffuser, range(circ.num_qubit_in_path))    # Apply diffuser\n",
    "\n",
    "        return circ\n",
    "\n",
    "    def __result_to_path(result: str, path_length: int, node_size: int) -> Path:\n",
    "        path = []\n",
    "        for i in range(path_length):\n",
    "            n1 = int(result[i : i+node_size], 2)\n",
    "            n2 = int(result[i+node_size : i+ 2*node_size], 2)\n",
    "            path.append((n1, n2))\n",
    "        return path\n",
    "\n",
    "    def run(self, circuit: QuantumMazeCircuit, shots: int = 1) -> list[Path]:\n",
    "        sim = AerSimulator()\n",
    "        transpiled = transpile(circuit, sim)\n",
    "        # Add measure to circuit\n",
    "        transpiled.measure(range(circuit.num_qubit_in_path), range(circuit.num_qubit_in_path))\n",
    "        # Run\n",
    "        results = sim.run(transpiled, shots=shots, memory=True).result().get_memory()\n",
    "        paths = [self.__result_to_path(r, circuit.max_path_length, circuit.node_bits_size) for r in results]\n",
    "        return paths\n",
    "\n",
    "    def solve(self, maze: Maze) -> Path:\n",
    "        maze_circ = self.generate_circuit(maze)\n",
    "        path = self.run(maze_circ, shots=1)\n",
    "        return path[0]"
   ]
  }
 ],
 "metadata": {
  "kernelspec": {
   "display_name": "Python 3",
   "language": "python",
   "name": "python3"
  },
  "language_info": {
   "codemirror_mode": {
    "name": "ipython",
    "version": 3
   },
   "file_extension": ".py",
   "mimetype": "text/x-python",
   "name": "python",
   "nbconvert_exporter": "python",
   "pygments_lexer": "ipython3",
   "version": "3.10.11"
  }
 },
 "nbformat": 4,
 "nbformat_minor": 5
}
